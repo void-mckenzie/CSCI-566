{
 "cells": [
  {
   "cell_type": "markdown",
   "metadata": {},
   "source": [
    "# Problem 2: Incorporating CNNs\n",
    "\n",
    "* Learning Objective: In this problem, you will learn how to deeply understand how Convolutional Neural Networks work by implementing one.\n",
    "* Provided Code: We provide the skeletons of classes you need to complete. Forward checking and gradient checkings are provided for verifying your implementation as well.\n",
    "* TODOs: you will implement a Convolutional Layer and a MaxPooling Layer to improve on your classification results in part 1."
   ]
  },
  {
   "cell_type": "code",
   "execution_count": 1,
   "metadata": {},
   "outputs": [],
   "source": [
    "from lib.mlp.fully_conn import *\n",
    "from lib.mlp.layer_utils import *\n",
    "from lib.mlp.datasets import *\n",
    "from lib.mlp.train import *\n",
    "from lib.cnn.layer_utils import *\n",
    "from lib.cnn.cnn_models import *\n",
    "from lib.grad_check import *\n",
    "from lib.optim import *\n",
    "import numpy as np\n",
    "import matplotlib.pyplot as plt\n",
    "\n",
    "%matplotlib inline\n",
    "plt.rcParams['figure.figsize'] = (10.0, 8.0) # set default size of plots\n",
    "plt.rcParams['image.interpolation'] = 'nearest'\n",
    "plt.rcParams['image.cmap'] = 'gray'\n",
    "\n",
    "# for auto-reloading external modules\n",
    "# see http://stackoverflow.com/questions/1907993/autoreload-of-modules-in-ipython\n",
    "%load_ext autoreload\n",
    "%autoreload 2"
   ]
  },
  {
   "cell_type": "markdown",
   "metadata": {},
   "source": [
    "## Loading the data (SVHN)\n",
    "Run the following code block to download SVHN dataset and load in the properly splitted SVHN data. The script `get_datasets.sh` use `wget` to download the SVHN dataset. If you have a trouble with executing `get_datasets.sh`, you can manually download the dataset and extract files."
   ]
  },
  {
   "cell_type": "code",
   "execution_count": null,
   "metadata": {},
   "outputs": [],
   "source": [
    "!./get_datasets.sh\n",
    "# !get_datasets.sh for windows users"
   ]
  },
  {
   "cell_type": "code",
   "execution_count": 2,
   "metadata": {},
   "outputs": [
    {
     "name": "stdout",
     "output_type": "stream",
     "text": [
      "Name: data_train Shape: (70000, 32, 32, 3)\n",
      "Name: labels_train Shape: (70000,)\n",
      "Name: data_val Shape: (3257, 32, 32, 3)\n",
      "Name: labels_val Shape: (3257,)\n",
      "Name: data_test Shape: (26032, 32, 32, 3)\n",
      "Name: labels_test Shape: (26032,)\n"
     ]
    }
   ],
   "source": [
    "data = SVHN_data()\n",
    "for k, v in data.items():\n",
    "    print (\"Name: {} Shape: {}\".format(k, v.shape))"
   ]
  },
  {
   "cell_type": "markdown",
   "metadata": {},
   "source": [
    "## Convolutional Neural Networks\n",
    "\n",
    "We will use convolutional neural networks to try to improve on the results from Problem 1. Convolutional layers make the assumption that local pixels are more important for prediction than far-away pixels. This allows us to form networks that are robust to small changes in positioning in images.\n",
    "\n",
    "### Convolutional Layer Output size calculation [2pts]\n",
    "\n",
    "As you have learned, two important parameters of a convolutional layer are its stride and padding. To warm up, we will need to calculate the output size of a convolutional layer given its stride and padding. To do this, open the `lib/cnn/layer_utils.py` file and fill out the TODO section in the `get_output_size` function in the ConvLayer2D class. \n",
    "\n",
    "Implement your function so that it returns the correct size as indicated by the block below."
   ]
  },
  {
   "cell_type": "code",
   "execution_count": 3,
   "metadata": {},
   "outputs": [
    {
     "name": "stdout",
     "output_type": "stream",
     "text": [
      "Received [32, 16, 16, 16] and expected [32, 16, 16, 16]\n"
     ]
    }
   ],
   "source": [
    "%reload_ext autoreload\n",
    "\n",
    "input_image = np.zeros([32, 28, 28, 3]) # a stack of 32 28 by 28 rgb images\n",
    "\n",
    "in_channels = input_image.shape[-1] #must agree with the last dimension of the input image\n",
    "k_size = 4 \n",
    "n_filt = 16\n",
    "\n",
    "conv_layer = ConvLayer2D(in_channels, k_size, n_filt, stride=2, padding=3)\n",
    "output_size = conv_layer.get_output_size(input_image.shape) \n",
    "\n",
    "print(\"Received {} and expected [32, 16, 16, 16]\".format(output_size))"
   ]
  },
  {
   "cell_type": "markdown",
   "metadata": {},
   "source": [
    "### Convolutional Layer Forward Pass [5pts]\n",
    "\n",
    "Now, we will implement the forward pass of a convolutional layer. Fill in the TODO block in the `forward` function of the ConvLayer2D class."
   ]
  },
  {
   "cell_type": "code",
   "execution_count": 4,
   "metadata": {},
   "outputs": [
    {
     "name": "stdout",
     "output_type": "stream",
     "text": [
      "Received output shape: (1, 4, 4, 2), Expected output shape: (1, 4, 4, 2)\n",
      "Difference:  5.110565335399418e-08\n"
     ]
    }
   ],
   "source": [
    "%reload_ext autoreload\n",
    "\n",
    "# Test the convolutional forward function\n",
    "input_image = np.linspace(-0.1, 0.4, num=1*8*8*1).reshape([1, 8, 8, 1]) # a single 8 by 8 grayscale image\n",
    "in_channels, k_size, n_filt = 1, 5, 2\n",
    "\n",
    "weight_size = k_size*k_size*in_channels*n_filt\n",
    "bias_size = n_filt\n",
    "\n",
    "\n",
    "\n",
    "single_conv = ConvLayer2D(in_channels, k_size, n_filt, stride=1, padding=0, name=\"conv_test\")\n",
    "\n",
    "w = np.linspace(-0.2, 0.2, num=weight_size).reshape(k_size, k_size, in_channels, n_filt)\n",
    "b = np.linspace(-0.3, 0.3, num=bias_size)\n",
    "\n",
    "single_conv.params[single_conv.w_name] = w\n",
    "single_conv.params[single_conv.b_name] = b\n",
    "\n",
    "out = single_conv.forward(input_image)\n",
    "\n",
    "print(\"Received output shape: {}, Expected output shape: (1, 4, 4, 2)\".format(out.shape))\n",
    "\n",
    "correct_out = np.array([[\n",
    "   [[-0.03874312, 0.57000324],\n",
    "   [-0.03955296, 0.57081309],\n",
    "   [-0.04036281, 0.57162293],\n",
    "   [-0.04117266, 0.57243278]],\n",
    "\n",
    "  [[-0.0452219, 0.57648202],\n",
    "   [-0.04603175, 0.57729187],\n",
    "   [-0.04684159, 0.57810172],\n",
    "   [-0.04765144, 0.57891156]],\n",
    "\n",
    "  [[-0.05170068, 0.5829608 ],\n",
    "   [-0.05251053, 0.58377065],\n",
    "   [-0.05332038, 0.5845805 ],\n",
    "   [-0.05413022, 0.58539035]],\n",
    "\n",
    "  [[-0.05817946, 0.58943959],\n",
    "   [-0.05898931, 0.59024943],\n",
    "   [-0.05979916, 0.59105928],\n",
    "   [-0.06060901, 0.59186913]]]])\n",
    "\n",
    "# Compare your output with the above pre-computed ones. \n",
    "# The difference should not be larger than 1e-8\n",
    "print (\"Difference: \", rel_error(out, correct_out))"
   ]
  },
  {
   "cell_type": "markdown",
   "metadata": {},
   "source": [
    "### Conv Layer Backward [5pts]\n",
    "\n",
    "Now complete the backward pass of a convolutional layer. Fill in the TODO block in the `backward` function of the ConvLayer2D class. Check you results with this code and expect differences of less than 1e-6."
   ]
  },
  {
   "cell_type": "code",
   "execution_count": 5,
   "metadata": {},
   "outputs": [
    {
     "name": "stdout",
     "output_type": "stream",
     "text": [
      "dimg Error:  7.637562229218304e-09\n",
      "dw Error:  1.2802912969322507e-09\n",
      "db Error:  2.0577980617311323e-10\n",
      "dimg Shape:  (15, 8, 8, 3) (15, 8, 8, 3)\n"
     ]
    }
   ],
   "source": [
    "%reload_ext autoreload\n",
    "\n",
    "# Test the conv backward function\n",
    "img = np.random.randn(15, 8, 8, 3)\n",
    "w = np.random.randn(4, 4, 3, 12)\n",
    "b = np.random.randn(12)\n",
    "dout = np.random.randn(15, 4, 4, 12)\n",
    "\n",
    "single_conv = ConvLayer2D(input_channels=3, kernel_size=4, number_filters=12, stride=2, padding=1, name=\"conv_test\")\n",
    "single_conv.params[single_conv.w_name] = w\n",
    "single_conv.params[single_conv.b_name] = b\n",
    "\n",
    "dimg_num = eval_numerical_gradient_array(lambda x: single_conv.forward(img), img, dout)\n",
    "dw_num = eval_numerical_gradient_array(lambda w: single_conv.forward(img), w, dout)\n",
    "db_num = eval_numerical_gradient_array(lambda b: single_conv.forward(img), b, dout)\n",
    "\n",
    "out = single_conv.forward(img)\n",
    "\n",
    "dimg = single_conv.backward(dout)\n",
    "dw = single_conv.grads[single_conv.w_name]\n",
    "db = single_conv.grads[single_conv.b_name]\n",
    "\n",
    "# The error should be around 1e-8\n",
    "print(\"dimg Error: \", rel_error(dimg_num, dimg))\n",
    "# The errors should be around 1e-8\n",
    "print(\"dw Error: \", rel_error(dw_num, dw))\n",
    "print(\"db Error: \", rel_error(db_num, db))\n",
    "# The shapes should be same\n",
    "print(\"dimg Shape: \", dimg.shape, img.shape)"
   ]
  },
  {
   "cell_type": "markdown",
   "metadata": {},
   "source": [
    "## Max pooling Layer\n",
    "Now we will implement maxpooling layers, which can help to reduce the image size while preserving the overall structure of the image.\n",
    "\n",
    "### Forward Pass max pooling [5pts]\n",
    "Fill out the TODO block in the `forward` function of the MaxPoolingLayer class."
   ]
  },
  {
   "cell_type": "code",
   "execution_count": 6,
   "metadata": {},
   "outputs": [
    {
     "name": "stdout",
     "output_type": "stream",
     "text": [
      "Received output shape: (1, 3, 3, 1), Expected output shape: (1, 3, 3, 1)\n",
      "Difference:  1.8750000280978013e-08\n"
     ]
    }
   ],
   "source": [
    "# Test the convolutional forward function\n",
    "input_image = np.linspace(-0.1, 0.4, num=64).reshape([1, 8, 8, 1]) # a single 8 by 8 grayscale image\n",
    "\n",
    "maxpool= MaxPoolingLayer(pool_size=4, stride=2, name=\"maxpool_test\")\n",
    "out = maxpool.forward(input_image)\n",
    "\n",
    "print(\"Received output shape: {}, Expected output shape: (1, 3, 3, 1)\".format(out.shape))\n",
    "\n",
    "correct_out = np.array([[\n",
    "   [[0.11428571],\n",
    "   [0.13015873],\n",
    "   [0.14603175]],\n",
    "\n",
    "  [[0.24126984],\n",
    "   [0.25714286],\n",
    "   [0.27301587]],\n",
    "\n",
    "  [[0.36825397],\n",
    "   [0.38412698],\n",
    "   [0.4       ]]]])\n",
    "\n",
    "# Compare your output with the above pre-computed ones. \n",
    "# The difference should not be larger than 1e-8\n",
    "print (\"Difference: \", rel_error(out, correct_out))"
   ]
  },
  {
   "cell_type": "markdown",
   "metadata": {},
   "source": [
    "### Backward Pass Max pooling [5pts]\n",
    "Fill out the `backward` function in the MaxPoolingLayer class."
   ]
  },
  {
   "cell_type": "code",
   "execution_count": 7,
   "metadata": {},
   "outputs": [
    {
     "name": "stdout",
     "output_type": "stream",
     "text": [
      "dimg Error:  1.8928936598382574e-11\n",
      "dimg Shape:  (15, 8, 8, 3) (15, 8, 8, 3)\n"
     ]
    }
   ],
   "source": [
    "img = np.random.randn(15, 8, 8, 3)\n",
    "\n",
    "dout = np.random.randn(15, 3, 3, 3)\n",
    "\n",
    "maxpool= MaxPoolingLayer(pool_size=4, stride=2, name=\"maxpool_test\")\n",
    "\n",
    "dimg_num = eval_numerical_gradient_array(lambda x: maxpool.forward(img), img, dout)\n",
    "\n",
    "out = maxpool.forward(img)\n",
    "dimg = maxpool.backward(dout)\n",
    "\n",
    "# The error should be around 1e-8\n",
    "print(\"dimg Error: \", rel_error(dimg_num, dimg))\n",
    "# The shapes should be same\n",
    "print(\"dimg Shape: \", dimg.shape, img.shape)"
   ]
  },
  {
   "cell_type": "markdown",
   "metadata": {},
   "source": [
    "### Test a Small Fully Connected Network [3pts]\n",
    "Please find the `TestCNN` class in `lib/cnn/cnn_models.py`.\n",
    "Again you only need to complete few lines of code in the TODO block.\n",
    "Please design a Convolutional --> Maxpool --> flatten --> fc network where the shapes of parameters match the given shapes.\n",
    "Please insert the corresponding names you defined for each layer to param_name_w, and param_name_b respectively.\n",
    "Here you only modify the param_name part, the _w, and _b are automatically assigned during network setup."
   ]
  },
  {
   "cell_type": "code",
   "execution_count": 8,
   "metadata": {},
   "outputs": [
    {
     "name": "stdout",
     "output_type": "stream",
     "text": [
      "Testing initialization ... \n",
      "Passed!\n",
      "Testing test-time forward pass ... \n",
      "Passed!\n",
      "Testing the loss ...\n",
      "Passed!\n",
      "Testing the gradients (error should be no larger than 1e-6) ...\n",
      "conv1_b relative error: 1.99e-09\n",
      "conv1_w relative error: 3.24e-10\n",
      "fc1_b relative error: 1.33e-10\n",
      "fc1_w relative error: 3.89e-07\n"
     ]
    }
   ],
   "source": [
    "%reload_ext autoreload\n",
    "\n",
    "seed = 1234\n",
    "np.random.seed(seed=seed)\n",
    "\n",
    "model = TestCNN()\n",
    "loss_func = cross_entropy()\n",
    "\n",
    "B, H, W, iC = 4, 8, 8, 3 #batch, height, width, in_channels\n",
    "k = 3 #kernel size\n",
    "oC, Hi, O = 3, 27, 5 # out channels, Hidden Layer input, Output size\n",
    "std = 0.02\n",
    "x = np.random.randn(B,H,W,iC)\n",
    "y = np.random.randint(O, size=B)\n",
    "\n",
    "print (\"Testing initialization ... \")\n",
    "\n",
    "###################################################\n",
    "# TODO: param_name should be replaced accordingly  #\n",
    "###################################################\n",
    "w1_std = abs(model.net.get_params(\"conv1_w\").std() - std)\n",
    "b1 = model.net.get_params(\"conv1_b\").std()\n",
    "w2_std = abs(model.net.get_params(\"fc1_w\").std() - std)\n",
    "b2 = model.net.get_params(\"fc1_b\").std()\n",
    "###################################################\n",
    "#                END OF YOUR CODE                 #\n",
    "###################################################\n",
    "\n",
    "assert w1_std < std / 10, \"First layer weights do not seem right\"\n",
    "assert np.all(b1 == 0), \"First layer biases do not seem right\"\n",
    "assert w2_std < std / 10, \"Second layer weights do not seem right\"\n",
    "assert np.all(b2 == 0), \"Second layer biases do not seem right\"\n",
    "print (\"Passed!\")\n",
    "\n",
    "print (\"Testing test-time forward pass ... \")\n",
    "w1 = np.linspace(-0.7, 0.3, num=k*k*iC*oC).reshape(k,k,iC,oC)\n",
    "w2 = np.linspace(-0.2, 0.2, num=Hi*O).reshape(Hi, O)\n",
    "b1 = np.linspace(-0.6, 0.2, num=oC)\n",
    "b2 = np.linspace(-0.9, 0.1, num=O)\n",
    "\n",
    "###################################################\n",
    "# TODO: param_name should be replaced accordingly  #\n",
    "###################################################\n",
    "model.net.assign(\"conv1_w\", w1)\n",
    "model.net.assign(\"conv1_b\", b1)\n",
    "model.net.assign(\"fc1_w\", w2)\n",
    "model.net.assign(\"fc1_b\", b2)\n",
    "###################################################\n",
    "#                END OF YOUR CODE                 #\n",
    "###################################################\n",
    "\n",
    "feats = np.linspace(-5.5, 4.5, num=B*H*W*iC).reshape(B,H,W,iC)\n",
    "scores = model.forward(feats)\n",
    "correct_scores = np.asarray([[-13.85107294, -11.52845818,  -9.20584342,  -6.88322866,  -4.5606139 ],\n",
    " [-11.44514171, -10.21200524 , -8.97886878 , -7.74573231 , -6.51259584],\n",
    " [ -9.03921048,  -8.89555231 , -8.75189413 , -8.60823596,  -8.46457778],\n",
    " [ -6.63327925 , -7.57909937 , -8.52491949 , -9.4707396 , -10.41655972]])\n",
    "scores_diff = np.sum(np.abs(scores - correct_scores))\n",
    "assert scores_diff < 1e-6, \"Your implementation might be wrong!\"\n",
    "print (\"Passed!\")\n",
    "\n",
    "print (\"Testing the loss ...\",)\n",
    "y = np.asarray([0, 2, 1, 4])\n",
    "loss = loss_func.forward(scores, y)\n",
    "dLoss = loss_func.backward()\n",
    "correct_loss = 4.56046848799693\n",
    "assert abs(loss - correct_loss) < 1e-10, \"Your implementation might be wrong!\"\n",
    "print (\"Passed!\")\n",
    "\n",
    "print (\"Testing the gradients (error should be no larger than 1e-6) ...\")\n",
    "din = model.backward(dLoss)\n",
    "for layer in model.net.layers:\n",
    "    if not layer.params:\n",
    "        continue\n",
    "    for name in sorted(layer.grads):\n",
    "        f = lambda _: loss_func.forward(model.forward(feats), y)\n",
    "        grad_num = eval_numerical_gradient(f, layer.params[name], verbose=False)\n",
    "        print ('%s relative error: %.2e' % (name, rel_error(grad_num, layer.grads[name])))"
   ]
  },
  {
   "cell_type": "markdown",
   "metadata": {},
   "source": [
    "### Training the Network [25pts]\n",
    "In this section, we defined a `SmallConvolutionalNetwork` class for you to fill in the TODO block in `lib/cnn/cnn_models.py`.\n",
    "\n",
    "Here please design a network with at most two convolutions and two maxpooling layers (you may use less).\n",
    "You can adjust the parameters for any layer, and include layers other than those listed above that you have implemented.\n",
    "You are also free to select any optimizer you have implemented (with any learning rate).\n",
    "\n",
    "Try to find a combination that is able to achieve 88% validation accuracy."
   ]
  },
  {
   "cell_type": "code",
   "execution_count": 9,
   "metadata": {},
   "outputs": [],
   "source": [
    "# Arrange the data\n",
    "data_dict = {\n",
    "    \"data_train\": (data[\"data_train\"], data[\"labels_train\"]),\n",
    "    \"data_val\": (data[\"data_val\"], data[\"labels_val\"]),\n",
    "    \"data_test\": (data[\"data_test\"], data[\"labels_test\"])\n",
    "}"
   ]
  },
  {
   "cell_type": "code",
   "execution_count": 10,
   "metadata": {},
   "outputs": [
    {
     "name": "stdout",
     "output_type": "stream",
     "text": [
      "Data shape: (70000, 32, 32, 3)\n",
      "Flattened data input size: 3072\n",
      "Number of data classes: 10\n"
     ]
    }
   ],
   "source": [
    "print(\"Data shape:\", data_dict[\"data_train\"][0].shape)\n",
    "print(\"Flattened data input size:\", np.prod(data[\"data_train\"].shape[1:]))\n",
    "print(\"Number of data classes:\", max(data['labels_train']) + 1)"
   ]
  },
  {
   "cell_type": "code",
   "execution_count": 25,
   "metadata": {},
   "outputs": [
    {
     "name": "stdout",
     "output_type": "stream",
     "text": [
      "(Iteration 1 / 7000) loss: 2.303081059595888\n",
      "(Iteration 26 / 7000) loss: 2.2805942144178983\n",
      "(Iteration 51 / 7000) loss: 2.200571775532671\n",
      "(Iteration 76 / 7000) loss: 2.2110406366487916\n",
      "(Iteration 101 / 7000) loss: 2.190221788486456\n",
      "(Iteration 126 / 7000) loss: 2.20815095346584\n",
      "(Iteration 151 / 7000) loss: 2.2359210897384165\n",
      "(Iteration 176 / 7000) loss: 2.169811610846909\n",
      "(Iteration 201 / 7000) loss: 2.2278256863342203\n",
      "(Iteration 226 / 7000) loss: 2.2127536422279763\n",
      "(Iteration 251 / 7000) loss: 2.217862929801658\n",
      "(Iteration 276 / 7000) loss: 2.2354030376611256\n",
      "(Iteration 301 / 7000) loss: 2.2857248179535627\n",
      "(Iteration 326 / 7000) loss: 2.1737382508283907\n",
      "(Iteration 351 / 7000) loss: 2.2206761547280416\n",
      "(Iteration 376 / 7000) loss: 2.1848338460046106\n",
      "(Iteration 401 / 7000) loss: 2.1984531301765475\n",
      "(Iteration 426 / 7000) loss: 2.2576330191312945\n",
      "(Iteration 451 / 7000) loss: 2.2282084695976474\n",
      "(Iteration 476 / 7000) loss: 2.259346219696147\n",
      "(Iteration 501 / 7000) loss: 2.2221840476587915\n",
      "(Iteration 526 / 7000) loss: 2.236775120087029\n",
      "(Iteration 551 / 7000) loss: 2.198236808823978\n",
      "(Iteration 576 / 7000) loss: 2.152931132145809\n",
      "(Iteration 601 / 7000) loss: 2.1535610602543223\n",
      "(Iteration 626 / 7000) loss: 2.1482512652435917\n",
      "(Iteration 651 / 7000) loss: 2.1550347129375735\n",
      "(Iteration 676 / 7000) loss: 1.9951917069428255\n",
      "(Epoch 1 / 10) Training Accuracy: 0.3840142857142857, Validation Accuracy: 0.3758059564015966\n",
      "(Iteration 701 / 7000) loss: 1.8147499902156137\n",
      "(Iteration 726 / 7000) loss: 1.719732303774698\n",
      "(Iteration 751 / 7000) loss: 1.8591200208900647\n",
      "(Iteration 776 / 7000) loss: 1.3446597228652906\n",
      "(Iteration 801 / 7000) loss: 1.3185697607651559\n",
      "(Iteration 826 / 7000) loss: 1.0720397349792772\n",
      "(Iteration 851 / 7000) loss: 1.2237196678195779\n",
      "(Iteration 876 / 7000) loss: 0.968542489617505\n",
      "(Iteration 901 / 7000) loss: 1.0398282905213652\n",
      "(Iteration 926 / 7000) loss: 1.0109870964405625\n",
      "(Iteration 951 / 7000) loss: 1.1579619333092503\n",
      "(Iteration 976 / 7000) loss: 0.9659190040066923\n",
      "(Iteration 1001 / 7000) loss: 0.9165748856933673\n",
      "(Iteration 1026 / 7000) loss: 0.8554011963236001\n",
      "(Iteration 1051 / 7000) loss: 0.6791535407761795\n",
      "(Iteration 1076 / 7000) loss: 1.3015519952052008\n",
      "(Iteration 1101 / 7000) loss: 0.8890751797433655\n",
      "(Iteration 1126 / 7000) loss: 0.5017717804499813\n",
      "(Iteration 1151 / 7000) loss: 0.7970508345219867\n",
      "(Iteration 1176 / 7000) loss: 0.8078907818730534\n",
      "(Iteration 1201 / 7000) loss: 0.6270056583575695\n",
      "(Iteration 1226 / 7000) loss: 0.7134938562988395\n",
      "(Iteration 1251 / 7000) loss: 0.7826610987551973\n",
      "(Iteration 1276 / 7000) loss: 0.8998714656270611\n",
      "(Iteration 1301 / 7000) loss: 0.7179145754029901\n",
      "(Iteration 1326 / 7000) loss: 0.6588310257259172\n",
      "(Iteration 1351 / 7000) loss: 0.7423826643867764\n",
      "(Iteration 1376 / 7000) loss: 0.9298051777829918\n",
      "(Epoch 2 / 10) Training Accuracy: 0.8285428571428571, Validation Accuracy: 0.8203868590727663\n",
      "(Iteration 1401 / 7000) loss: 0.8721932606928543\n",
      "(Iteration 1426 / 7000) loss: 0.9325982256521834\n",
      "(Iteration 1451 / 7000) loss: 0.5490903126276906\n",
      "(Iteration 1476 / 7000) loss: 0.7514261740774626\n",
      "(Iteration 1501 / 7000) loss: 1.1836911022582008\n",
      "(Iteration 1526 / 7000) loss: 0.4946237394892931\n",
      "(Iteration 1551 / 7000) loss: 0.5149679174226565\n",
      "(Iteration 1576 / 7000) loss: 0.7669239613095016\n",
      "(Iteration 1601 / 7000) loss: 0.7219554306936874\n",
      "(Iteration 1626 / 7000) loss: 0.6528383516778853\n",
      "(Iteration 1651 / 7000) loss: 0.6053171818552048\n",
      "(Iteration 1676 / 7000) loss: 0.7271232563564854\n",
      "(Iteration 1701 / 7000) loss: 0.7539949245363641\n",
      "(Iteration 1726 / 7000) loss: 0.549860169926417\n",
      "(Iteration 1751 / 7000) loss: 0.7169827430846055\n",
      "(Iteration 1776 / 7000) loss: 0.6709361983076554\n",
      "(Iteration 1801 / 7000) loss: 0.5194899186040396\n",
      "(Iteration 1826 / 7000) loss: 0.6905292783357992\n",
      "(Iteration 1851 / 7000) loss: 0.744743066278433\n",
      "(Iteration 1876 / 7000) loss: 0.6051477426953162\n",
      "(Iteration 1901 / 7000) loss: 0.4996035267347959\n",
      "(Iteration 1926 / 7000) loss: 0.5525588501104469\n",
      "(Iteration 1951 / 7000) loss: 0.49892075247364703\n",
      "(Iteration 1976 / 7000) loss: 0.6218438587338445\n",
      "(Iteration 2001 / 7000) loss: 0.6385646971637398\n",
      "(Iteration 2026 / 7000) loss: 0.6210294082026253\n",
      "(Iteration 2051 / 7000) loss: 0.5580696571477061\n",
      "(Iteration 2076 / 7000) loss: 0.9036588189737362\n",
      "(Epoch 3 / 10) Training Accuracy: 0.8545142857142857, Validation Accuracy: 0.8440282468529321\n",
      "(Iteration 2101 / 7000) loss: 0.6125410724915614\n",
      "(Iteration 2126 / 7000) loss: 0.6530451199294884\n",
      "(Iteration 2151 / 7000) loss: 0.6799759401595066\n",
      "(Iteration 2176 / 7000) loss: 0.6654972349604545\n",
      "(Iteration 2201 / 7000) loss: 0.5059808318550864\n",
      "(Iteration 2226 / 7000) loss: 0.6383227440133526\n",
      "(Iteration 2251 / 7000) loss: 0.6739976031120495\n",
      "(Iteration 2276 / 7000) loss: 0.7456347114271111\n",
      "(Iteration 2301 / 7000) loss: 0.49129075348318596\n",
      "(Iteration 2326 / 7000) loss: 0.619050214772351\n",
      "(Iteration 2351 / 7000) loss: 0.5827992001828832\n",
      "(Iteration 2376 / 7000) loss: 0.5940286932775066\n",
      "(Iteration 2401 / 7000) loss: 0.5872374027741047\n",
      "(Iteration 2426 / 7000) loss: 0.6161599178793282\n",
      "(Iteration 2451 / 7000) loss: 0.4411723616626623\n",
      "(Iteration 2476 / 7000) loss: 0.4709408181353949\n",
      "(Iteration 2501 / 7000) loss: 0.5619242003969369\n",
      "(Iteration 2526 / 7000) loss: 0.6156438332079248\n",
      "(Iteration 2551 / 7000) loss: 0.7571816922295127\n",
      "(Iteration 2576 / 7000) loss: 0.44055593532319237\n",
      "(Iteration 2601 / 7000) loss: 0.8381262177377872\n",
      "(Iteration 2626 / 7000) loss: 0.7113128941488261\n",
      "(Iteration 2651 / 7000) loss: 0.43346174917908514\n",
      "(Iteration 2676 / 7000) loss: 0.7691982566787096\n",
      "(Iteration 2701 / 7000) loss: 0.5275713186514465\n",
      "(Iteration 2726 / 7000) loss: 0.5247172563465273\n",
      "(Iteration 2751 / 7000) loss: 0.7355501491930602\n",
      "(Iteration 2776 / 7000) loss: 0.7173985839586966\n",
      "(Epoch 4 / 10) Training Accuracy: 0.8641571428571428, Validation Accuracy: 0.8578446423088733\n",
      "(Iteration 2801 / 7000) loss: 0.5714023514239714\n",
      "(Iteration 2826 / 7000) loss: 0.5609925612404699\n",
      "(Iteration 2851 / 7000) loss: 0.2952830460055606\n",
      "(Iteration 2876 / 7000) loss: 0.8275057985475479\n",
      "(Iteration 2901 / 7000) loss: 0.7003610107739323\n",
      "(Iteration 2926 / 7000) loss: 0.39618682772421693\n",
      "(Iteration 2951 / 7000) loss: 0.4883029617761203\n",
      "(Iteration 2976 / 7000) loss: 0.34115511617038097\n",
      "(Iteration 3001 / 7000) loss: 0.6807840473833576\n",
      "(Iteration 3026 / 7000) loss: 0.7955964967591957\n",
      "(Iteration 3051 / 7000) loss: 0.6807169053271775\n",
      "(Iteration 3076 / 7000) loss: 0.5311465168488438\n",
      "(Iteration 3101 / 7000) loss: 0.6008811296223062\n",
      "(Iteration 3126 / 7000) loss: 0.6717047344696337\n",
      "(Iteration 3151 / 7000) loss: 0.5677132880273276\n",
      "(Iteration 3176 / 7000) loss: 0.5418246797104842\n",
      "(Iteration 3201 / 7000) loss: 0.5153002021757364\n",
      "(Iteration 3226 / 7000) loss: 0.44896898445800476\n",
      "(Iteration 3251 / 7000) loss: 0.6438467932788194\n",
      "(Iteration 3276 / 7000) loss: 0.6108185034727786\n",
      "(Iteration 3301 / 7000) loss: 0.5444955975624218\n",
      "(Iteration 3326 / 7000) loss: 0.5263176822607107\n",
      "(Iteration 3351 / 7000) loss: 0.5548728920810951\n",
      "(Iteration 3376 / 7000) loss: 0.5850815237427252\n",
      "(Iteration 3401 / 7000) loss: 0.7222866174616565\n",
      "(Iteration 3426 / 7000) loss: 0.6391347710368045\n",
      "(Iteration 3451 / 7000) loss: 0.5542799794724761\n",
      "(Iteration 3476 / 7000) loss: 0.7507475320478008\n",
      "(Epoch 5 / 10) Training Accuracy: 0.8733285714285715, Validation Accuracy: 0.8710469757445501\n",
      "(Iteration 3501 / 7000) loss: 0.2909835610535152\n",
      "(Iteration 3526 / 7000) loss: 0.5361529639817113\n",
      "(Iteration 3551 / 7000) loss: 0.48010107382392037\n",
      "(Iteration 3576 / 7000) loss: 0.3574942383190266\n",
      "(Iteration 3601 / 7000) loss: 0.5058604217973616\n",
      "(Iteration 3626 / 7000) loss: 0.5247782243540617\n",
      "(Iteration 3651 / 7000) loss: 0.5801157259477513\n",
      "(Iteration 3676 / 7000) loss: 0.4190059664602437\n",
      "(Iteration 3701 / 7000) loss: 0.5343070762758156\n",
      "(Iteration 3726 / 7000) loss: 0.5442838321767856\n",
      "(Iteration 3751 / 7000) loss: 0.7122207389823262\n",
      "(Iteration 3776 / 7000) loss: 0.572974526477804\n",
      "(Iteration 3801 / 7000) loss: 0.4801984965371545\n",
      "(Iteration 3826 / 7000) loss: 0.5183667146255039\n",
      "(Iteration 3851 / 7000) loss: 0.6055379624653006\n",
      "(Iteration 3876 / 7000) loss: 0.6577640478333077\n",
      "(Iteration 3901 / 7000) loss: 0.3942038390763621\n",
      "(Iteration 3926 / 7000) loss: 0.39485194538532786\n",
      "(Iteration 3951 / 7000) loss: 0.3907288507553696\n"
     ]
    },
    {
     "name": "stdout",
     "output_type": "stream",
     "text": [
      "(Iteration 3976 / 7000) loss: 0.7400237183675649\n",
      "(Iteration 4001 / 7000) loss: 0.4302892176691851\n",
      "(Iteration 4026 / 7000) loss: 0.6746132768879782\n",
      "(Iteration 4051 / 7000) loss: 0.5392347398261547\n",
      "(Iteration 4076 / 7000) loss: 0.4742694417630662\n",
      "(Iteration 4101 / 7000) loss: 0.48812666576522223\n",
      "(Iteration 4126 / 7000) loss: 0.8489458832038923\n",
      "(Iteration 4151 / 7000) loss: 0.49149002156518096\n",
      "(Iteration 4176 / 7000) loss: 0.5718364139071933\n",
      "(Epoch 6 / 10) Training Accuracy: 0.8779285714285714, Validation Accuracy: 0.8731961928154743\n",
      "(Iteration 4201 / 7000) loss: 0.5280526234162068\n",
      "(Iteration 4226 / 7000) loss: 0.42854591918673024\n",
      "(Iteration 4251 / 7000) loss: 0.5863946525296344\n",
      "(Iteration 4276 / 7000) loss: 0.2880977310642385\n",
      "(Iteration 4301 / 7000) loss: 0.32020891366703885\n",
      "(Iteration 4326 / 7000) loss: 0.5377722712082208\n",
      "(Iteration 4351 / 7000) loss: 0.4040714424397808\n",
      "(Iteration 4376 / 7000) loss: 0.27599492828207917\n",
      "(Iteration 4401 / 7000) loss: 0.4075569322987711\n",
      "(Iteration 4426 / 7000) loss: 0.44878076057273186\n",
      "(Iteration 4451 / 7000) loss: 0.5934792199505905\n",
      "(Iteration 4476 / 7000) loss: 0.5097758831049217\n",
      "(Iteration 4501 / 7000) loss: 0.5636820104226011\n",
      "(Iteration 4526 / 7000) loss: 0.6353188259875631\n",
      "(Iteration 4551 / 7000) loss: 0.5965130676365049\n",
      "(Iteration 4576 / 7000) loss: 0.33873898337125624\n",
      "(Iteration 4601 / 7000) loss: 0.6019581051196375\n",
      "(Iteration 4626 / 7000) loss: 0.6649455785843138\n",
      "(Iteration 4651 / 7000) loss: 0.43449854210919014\n",
      "(Iteration 4676 / 7000) loss: 0.3205482147019545\n",
      "(Iteration 4701 / 7000) loss: 0.8332919981453546\n",
      "(Iteration 4726 / 7000) loss: 0.4273245641922696\n",
      "(Iteration 4751 / 7000) loss: 0.49515539577302164\n",
      "(Iteration 4776 / 7000) loss: 0.6295866613636864\n",
      "(Iteration 4801 / 7000) loss: 0.5212658096549196\n",
      "(Iteration 4826 / 7000) loss: 0.5646853346664767\n",
      "(Iteration 4851 / 7000) loss: 0.4993294893785095\n",
      "(Iteration 4876 / 7000) loss: 0.5688339974885901\n",
      "(Epoch 7 / 10) Training Accuracy: 0.8801857142857142, Validation Accuracy: 0.868283696653362\n",
      "(Iteration 4901 / 7000) loss: 0.47456631654687653\n",
      "(Iteration 4926 / 7000) loss: 0.6631155139898833\n",
      "(Iteration 4951 / 7000) loss: 0.5688620065417254\n",
      "(Iteration 4976 / 7000) loss: 0.5246623177726263\n",
      "(Iteration 5001 / 7000) loss: 0.4876045788108682\n",
      "(Iteration 5026 / 7000) loss: 0.5790970553800094\n",
      "(Iteration 5051 / 7000) loss: 0.6699674793688385\n",
      "(Iteration 5076 / 7000) loss: 0.4255346363143353\n",
      "(Iteration 5101 / 7000) loss: 0.5604804141489343\n",
      "(Iteration 5126 / 7000) loss: 0.4267636793373496\n",
      "(Iteration 5151 / 7000) loss: 0.49895985648978725\n",
      "(Iteration 5176 / 7000) loss: 0.4810595745819856\n",
      "(Iteration 5201 / 7000) loss: 0.5807104771685772\n",
      "(Iteration 5226 / 7000) loss: 0.4052912184680988\n",
      "(Iteration 5251 / 7000) loss: 0.5897685781511062\n",
      "(Iteration 5276 / 7000) loss: 0.5923355885191982\n",
      "(Iteration 5301 / 7000) loss: 0.4502465124360797\n",
      "(Iteration 5326 / 7000) loss: 0.37722801713157744\n",
      "(Iteration 5351 / 7000) loss: 0.3369269225524848\n",
      "(Iteration 5376 / 7000) loss: 0.5791940844134152\n",
      "(Iteration 5401 / 7000) loss: 0.522413326066409\n",
      "(Iteration 5426 / 7000) loss: 0.5419039879715968\n",
      "(Iteration 5451 / 7000) loss: 0.514021903173735\n",
      "(Iteration 5476 / 7000) loss: 0.5006096067750788\n",
      "(Iteration 5501 / 7000) loss: 0.5296049420028593\n",
      "(Iteration 5526 / 7000) loss: 0.5342727987163218\n",
      "(Iteration 5551 / 7000) loss: 0.5794662474016365\n",
      "(Iteration 5576 / 7000) loss: 0.44241298753964364\n",
      "(Epoch 8 / 10) Training Accuracy: 0.8838142857142857, Validation Accuracy: 0.8738102548357384\n",
      "(Iteration 5601 / 7000) loss: 0.31691573057504685\n",
      "(Iteration 5626 / 7000) loss: 0.4814415336070397\n",
      "(Iteration 5651 / 7000) loss: 0.6111359015276374\n",
      "(Iteration 5676 / 7000) loss: 0.4588470283047952\n",
      "(Iteration 5701 / 7000) loss: 0.48350133115579735\n",
      "(Iteration 5726 / 7000) loss: 0.5218582754372022\n",
      "(Iteration 5751 / 7000) loss: 0.4017954850073654\n",
      "(Iteration 5776 / 7000) loss: 0.5619785126872817\n",
      "(Iteration 5801 / 7000) loss: 0.49656590471904977\n",
      "(Iteration 5826 / 7000) loss: 0.4854985361035789\n",
      "(Iteration 5851 / 7000) loss: 0.5997418589407723\n",
      "(Iteration 5876 / 7000) loss: 0.3996642715893655\n",
      "(Iteration 5901 / 7000) loss: 0.4997301784171883\n",
      "(Iteration 5926 / 7000) loss: 0.621104133421247\n",
      "(Iteration 5951 / 7000) loss: 0.6192735031650438\n",
      "(Iteration 5976 / 7000) loss: 0.5503696842002096\n",
      "(Iteration 6001 / 7000) loss: 0.489611546423125\n",
      "(Iteration 6026 / 7000) loss: 0.4360831515762919\n",
      "(Iteration 6051 / 7000) loss: 0.6793028261140259\n",
      "(Iteration 6076 / 7000) loss: 0.3512608789994598\n",
      "(Iteration 6101 / 7000) loss: 0.8161083615011188\n",
      "(Iteration 6126 / 7000) loss: 0.5650119359487775\n",
      "(Iteration 6151 / 7000) loss: 0.46946050102143866\n",
      "(Iteration 6176 / 7000) loss: 0.3791966062090922\n",
      "(Iteration 6201 / 7000) loss: 0.5528851483730503\n",
      "(Iteration 6226 / 7000) loss: 0.618389208963339\n",
      "(Iteration 6251 / 7000) loss: 0.4506057398594228\n",
      "(Iteration 6276 / 7000) loss: 0.4633755669579347\n",
      "(Epoch 9 / 10) Training Accuracy: 0.8866571428571428, Validation Accuracy: 0.8753454098863985\n",
      "(Iteration 6301 / 7000) loss: 0.5007020498668742\n",
      "(Iteration 6326 / 7000) loss: 0.765152359479816\n",
      "(Iteration 6351 / 7000) loss: 0.5175101777342029\n",
      "(Iteration 6376 / 7000) loss: 0.35009249804015197\n",
      "(Iteration 6401 / 7000) loss: 0.39038383621176836\n",
      "(Iteration 6426 / 7000) loss: 0.5335756277266468\n",
      "(Iteration 6451 / 7000) loss: 0.330715789034037\n",
      "(Iteration 6476 / 7000) loss: 0.5293366798325978\n",
      "(Iteration 6501 / 7000) loss: 0.5801907807505712\n",
      "(Iteration 6526 / 7000) loss: 0.375581048097592\n",
      "(Iteration 6551 / 7000) loss: 0.3853083170592769\n",
      "(Iteration 6576 / 7000) loss: 0.559824302979582\n",
      "(Iteration 6601 / 7000) loss: 0.456977606683737\n",
      "(Iteration 6626 / 7000) loss: 0.49864975293766184\n",
      "(Iteration 6651 / 7000) loss: 0.4813002805137146\n",
      "(Iteration 6676 / 7000) loss: 0.6743242369394794\n",
      "(Iteration 6701 / 7000) loss: 0.38051539836828796\n",
      "(Iteration 6726 / 7000) loss: 0.405247432716685\n",
      "(Iteration 6751 / 7000) loss: 0.4676219652801494\n",
      "(Iteration 6776 / 7000) loss: 0.5776256395594482\n",
      "(Iteration 6801 / 7000) loss: 0.41124451267601636\n",
      "(Iteration 6826 / 7000) loss: 0.5927606544308551\n",
      "(Iteration 6851 / 7000) loss: 0.4929468321266624\n",
      "(Iteration 6876 / 7000) loss: 0.4725039595556984\n",
      "(Iteration 6901 / 7000) loss: 0.5802958445284332\n",
      "(Iteration 6926 / 7000) loss: 0.5061918849706769\n",
      "(Iteration 6951 / 7000) loss: 0.5302878807333025\n",
      "(Iteration 6976 / 7000) loss: 0.7363468374632223\n",
      "(Epoch 10 / 10) Training Accuracy: 0.8889285714285714, Validation Accuracy: 0.8741172858458705\n"
     ]
    }
   ],
   "source": [
    "%reload_ext autoreload\n",
    "\n",
    "seed = 123\n",
    "np.random.seed(seed=seed)\n",
    "\n",
    "model = SmallConvolutionalNetwork()\n",
    "loss_f = cross_entropy()\n",
    "\n",
    "\n",
    "results = None\n",
    "#############################################################################\n",
    "# TODO: Use the train_net function you completed to train a network         #\n",
    "#############################################################################\n",
    "optimizer = SGD(model.net, 1e-2)\n",
    "\n",
    "batch_size = 100\n",
    "epochs = 10\n",
    "lr_decay = .999\n",
    "lr_decay_every = 10\n",
    "optimizer_rms  = RMSProp(model.net, 1e-2)\n",
    "optimizer = SGD(model.net,8e-2)\n",
    "\n",
    "\n",
    "#############################################################################\n",
    "#                             END OF YOUR CODE                              #\n",
    "#############################################################################\n",
    "results = train_net(data_dict, model, loss_f, optimizer, batch_size, epochs, \n",
    "                    lr_decay, lr_decay_every, show_every=25, verbose=True)\n",
    "opt_params, loss_hist, train_acc_hist, val_acc_hist = results\n"
   ]
  },
  {
   "cell_type": "code",
   "execution_count": 27,
   "metadata": {},
   "outputs": [
    {
     "name": "stdout",
     "output_type": "stream",
     "text": [
      "Loading Params: conv1_w Shape: (5, 5, 3, 16)\n",
      "Loading Params: conv1_b Shape: (16,)\n",
      "Loading Params: conv2_w Shape: (3, 3, 16, 32)\n",
      "Loading Params: conv2_b Shape: (32,)\n",
      "Loading Params: fc1_w Shape: (1152, 10)\n",
      "Loading Params: fc1_b Shape: (10,)\n",
      "Validation Accuracy: 87.41172858458704%\n",
      "Testing Accuracy: 86.70482483097726%\n"
     ]
    }
   ],
   "source": [
    "#Validation Accuracy Check - 87.4%\n",
    "# CONV->MAXPOOL->CONV->MAXPOOL->FLATTEN->LRELU->DROPOUT->FULLY CONNECTED\"\n",
    "modelo = SmallConvolutionalNetwork()\n",
    "modelo.net.load(opt_params)\n",
    "val_acc = compute_acc(modelo, data[\"data_val\"], data[\"labels_val\"])\n",
    "print (\"Validation Accuracy: {}%\".format(val_acc*100))\n",
    "test_acc = compute_acc(modelo, data[\"data_test\"], data[\"labels_test\"])\n",
    "print (\"Testing Accuracy: {}%\".format(test_acc*100))"
   ]
  },
  {
   "cell_type": "markdown",
   "metadata": {},
   "source": [
    "Run the code below to generate the training plots."
   ]
  },
  {
   "cell_type": "code",
   "execution_count": 26,
   "metadata": {},
   "outputs": [
    {
     "data": {
      "image/png": "[encoded data removed]",
      "text/plain": [
       "<Figure size 1080x864 with 2 Axes>"
      ]
     },
     "metadata": {
      "needs_background": "light"
     },
     "output_type": "display_data"
    }
   ],
   "source": [
    "%reload_ext autoreload\n",
    "\n",
    "opt_params, loss_hist, train_acc_hist, val_acc_hist = results\n",
    "\n",
    "# Plot the learning curves\n",
    "plt.subplot(2, 1, 1)\n",
    "plt.title('Training loss')\n",
    "loss_hist_ = loss_hist[1::100]  # sparse the curve a bit\n",
    "plt.plot(loss_hist_, '-o')\n",
    "plt.xlabel('Iteration')\n",
    "\n",
    "plt.subplot(2, 1, 2)\n",
    "plt.title('Accuracy')\n",
    "plt.plot(train_acc_hist, '-o', label='Training')\n",
    "plt.plot(val_acc_hist, '-o', label='Validation')\n",
    "plt.xlabel('Epoch')\n",
    "plt.legend(loc='lower right')\n",
    "plt.gcf().set_size_inches(15, 12)\n",
    "\n",
    "plt.show()"
   ]
  },
  {
   "cell_type": "markdown",
   "metadata": {},
   "source": [
    "### Visualizing Layers [5pts]\n",
    "\n",
    "An interesting finding from early research in convolutional networks was that the learned convolutions resembled filters used for things like edge detection. Complete the code below to visualize the filters in the first convolutional layer of your best model."
   ]
  },
  {
   "cell_type": "code",
   "execution_count": 28,
   "metadata": {},
   "outputs": [],
   "source": [
    "import matplotlib.pyplot as plt\n",
    "filters = model.net.get_params(\"conv1_w\")\n",
    "biases = model.net.get_params(\"conv1_b\")\n",
    "f_min, f_max = filters.min(), filters.max()\n",
    "filters = (filters - f_min) / (f_max - f_min)"
   ]
  },
  {
   "cell_type": "code",
   "execution_count": 29,
   "metadata": {},
   "outputs": [
    {
     "data": {
      "image/png": "[encoded data removed]",
      "text/plain": [
       "<Figure size 720x576 with 48 Axes>"
      ]
     },
     "metadata": {},
     "output_type": "display_data"
    }
   ],
   "source": [
    "im_array = None\n",
    "nrows, ncols = None, None\n",
    "\n",
    "###################################################\n",
    "# TODO: read the weights in the convolutional     #\n",
    "# layer and reshape them to a grid of images to   #\n",
    "# view with matplotlib.                           #\n",
    "###################################################\n",
    "n_filters, ix = 16, 1\n",
    "for i in range(n_filters):\n",
    "    f = filters[:, :, :, i]\n",
    "    for j in range(3):\n",
    "        ax = plt.subplot(n_filters, 3, ix)\n",
    "        ax.set_xticks([])\n",
    "        ax.set_yticks([])\n",
    "        plt.imshow(f[:, :, j], cmap='gray')\n",
    "        ix += 1\n",
    "plt.show()\n",
    "###################################################\n",
    "#                END OF YOUR CODE                 #\n",
    "###################################################\n",
    "\n",
    "#plt.imshow(im_array)"
   ]
  },
  {
   "cell_type": "markdown",
   "metadata": {},
   "source": [
    "    Red                    Green                    Blue"
   ]
  },
  {
   "cell_type": "markdown",
   "metadata": {},
   "source": [
    "#### Inline Question: Comment below on what kinds of filters you see. Include your response in your submission [5pts]"
   ]
  },
  {
   "cell_type": "markdown",
   "metadata": {},
   "source": [
    "#### Answer:\n",
    "The first 16 5x5 filter maps (each having 3 channels) are visualized above. These filters look for higher level features in the images. The last filter is akin to the Emboss filter (having higher values on the upper traingle, and lower values on the lower traingle). There are also quite a few feature maps similar to Sobel (larger numbers on one half, lower numbers on the other). Other feature maps are arbitary, and capture certain spatial characteristics from the images. These are some of the recognisable filters from the 1st layer of the CNN model."
   ]
  },
  {
   "cell_type": "markdown",
   "metadata": {},
   "source": []
  },
  {
   "cell_type": "markdown",
   "metadata": {},
   "source": [
    "# Submission\n",
    "\n",
    "Please prepare a PDF document `problem_2_solution.pdf` in the root directory of this repository with all plots and inline answers of your solution. Concretely, the document should contain the following items in strict order:\n",
    "1. Training loss / accuracy curves for CNN training\n",
    "2. Visualization of convolutional filters\n",
    "3. Answers to inline questions about convolutional filters\n",
    "\n",
    "Note that you still need to submit the jupyter notebook with all generated solutions. We will randomly pick submissions and check that the plots in the PDF and in the notebook are equivalent."
   ]
  },
  {
   "cell_type": "code",
   "execution_count": null,
   "metadata": {},
   "outputs": [],
   "source": []
  }
 ],
 "metadata": {
  "kernelspec": {
   "display_name": "Python 3 (ipykernel)",
   "language": "python",
   "name": "python3"
  },
  "language_info": {
   "codemirror_mode": {
    "name": "ipython",
    "version": 3
   },
   "file_extension": ".py",
   "mimetype": "text/x-python",
   "name": "python",
   "nbconvert_exporter": "python",
   "pygments_lexer": "ipython3",
   "version": "3.9.7"
  }
 },
 "nbformat": 4,
 "nbformat_minor": 4
}
